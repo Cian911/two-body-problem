{
 "cells": [
  {
   "cell_type": "code",
   "execution_count": 4,
   "metadata": {},
   "outputs": [],
   "source": [
    "import numpy as np\n",
    "import matplotlib.pyplot as plt"
   ]
  },
  {
   "cell_type": "code",
   "execution_count": 38,
   "metadata": {},
   "outputs": [
    {
     "data": {
      "image/png": "[encoded data removed]",
      "text/plain": [
       "<Figure size 576x576 with 1 Axes>"
      ]
     },
     "metadata": {
      "needs_background": "light"
     },
     "output_type": "display_data"
    }
   ],
   "source": [
    "day = 60*60*24\n",
    "# Constants\n",
    "G = 6.67408e-11\n",
    "au = 1.496e11\n",
    "\n",
    "class CelBody(object):\n",
    "    # Constants of nature\n",
    "    # Universal constant of gravitation\n",
    "    def __init__(self, id, name, x0, v0, mass, color, lw):\n",
    "        # Name of the body (string)\n",
    "        self.id = id\n",
    "        self.name = name\n",
    "        # Mass of the body (kg)\n",
    "        self.Mass = mass\n",
    "        # Initial position of the body (au)\n",
    "        self.x0 = np.asarray(x0, dtype=float)\n",
    "        # Position (au). Set to initial value.\n",
    "        self.x = self.x0.copy()\n",
    "        # Initial velocity of the body (au/s)\n",
    "        self.v0 = np.asarray(v0, dtype=float)\n",
    "        # Velocity (au/s). Set to initial value.\n",
    "        self.velocity = self.v0.copy()\n",
    "        self.acceleration = np.zeros([3], dtype=float)\n",
    "        self.color = color\n",
    "        self.lw = lw\n",
    "\n",
    "# All Celestial Bodies\n",
    "\n",
    "t = 0\n",
    "dt = 0.1*day\n",
    "\n",
    "Bodies = [\n",
    "    CelBody(0, 'Sun', [0, 0, 0], [0, 0, 0], 1.989e30, 'yellow', 10),\n",
    "    CelBody(1, 'Earth', [-1*au, 0, 0], [0, 29783, 0], 5.9742e24, 'blue', 3),\n",
    "    ]\n",
    "\n",
    "paths = [ [ b.x[:2].copy() ] for b in Bodies]\n",
    "\n",
    "# loop over twenty astronomical years\n",
    "v = 0\n",
    "while t < 20*365.242*day:\n",
    "    # compute forces/accelerations\n",
    "    for body in Bodies:\n",
    "        body.acceleration *= 0\n",
    "        for other in Bodies:\n",
    "            # no force on itself\n",
    "            if (body == other): continue # jump to next loop\n",
    "            rx = body.x - other.x\n",
    "            r3 = sum(rx**2)**1.5\n",
    "            body.acceleration += -G*other.Mass*rx/r3\n",
    "\n",
    "    for n, planet in enumerate(Bodies):\n",
    "        # use the symplectic Euler method for better conservation of the constants of motion\n",
    "        planet.velocity += planet.acceleration*dt\n",
    "        planet.x += planet.velocity*dt\n",
    "        paths[n].append( planet.x[:2].copy() )\n",
    "        if t > v:\n",
    "            v += 30.5*day\n",
    "        t += dt\n",
    "\n",
    "plt.figure(figsize=(8,8))\n",
    "for n, planet in enumerate(Bodies): \n",
    "    px, py=np.array(paths[n]).T; \n",
    "    plt.plot(px, py, color=planet.color, lw=planet.lw)\n",
    "plt.show()"
   ]
  },
  {
   "cell_type": "code",
   "execution_count": null,
   "metadata": {},
   "outputs": [],
   "source": []
  }
 ],
 "metadata": {
  "kernelspec": {
   "display_name": "Python 3",
   "language": "python",
   "name": "python3"
  },
  "language_info": {
   "codemirror_mode": {
    "name": "ipython",
    "version": 3
   },
   "file_extension": ".py",
   "mimetype": "text/x-python",
   "name": "python",
   "nbconvert_exporter": "python",
   "pygments_lexer": "ipython3",
   "version": "3.5.2"
  }
 },
 "nbformat": 4,
 "nbformat_minor": 2
}
